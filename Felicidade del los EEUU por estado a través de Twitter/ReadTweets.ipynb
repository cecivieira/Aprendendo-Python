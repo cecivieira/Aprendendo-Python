{
 "cells": [
  {
   "cell_type": "code",
   "execution_count": null,
   "metadata": {
    "collapsed": true
   },
   "outputs": [],
   "source": [
    "import json\n",
    "import csv\n",
    "states = [\"ak\",\"al\",\"ar\",\"az\",\"ca\",\"co\",\"ct\",\"de\",\"fl\",\"ga\",\"hi\",\"ia\",\"id\",\"il\",\n",
    "          \"in\",\"ks\",\"ky\",\"la\",\"ma\",\"md\",\"me\",\"mi\",\"mn\",\"mo\",\"ms\",\"mt\",\"nc\",\"nd\",\"ne\",\"nh\",\n",
    "          \"nj\",\"nm\",\"nv\",\"ny\",\"oh\",\"ok\",\"or\",\"pa\",\"ri\",\"sc\",\"sd\",\"tn\",\"tx\",\"ut\",\"va\",\"vt\",\n",
    "          \"wa\",\"wi\",\"wv\",\"wy\"]\n",
    "\n",
    "states_names = {'AL': 'Alabama', 'AK': 'Alaska', 'AZ': 'Arizona', 'AR': 'Arkansas', 'CA': 'California', 'CO': 'Colorado',\n",
    "'CT': 'Connecticut', 'DE': 'Delaware', 'FL': 'Florida', 'GA': 'Georgia', 'HI': 'Hawaii', 'ID': 'Idaho', 'IL': 'Illinois',\n",
    "'IN': 'Indiana', 'IA': 'Iowa', 'KS': 'Kansas', 'KY': 'Kentucky', 'LA': 'Louisiana', 'ME': 'Maine', 'MD': 'Maryland',\n",
    "'MA': 'Massachusetts', 'MI': 'Michigan', 'MN': 'Minnesota', 'MS': 'Mississippi', 'MO': 'Missouri', 'MT': 'Montana',\n",
    "'NE': 'Nebraska', 'NV': 'Nevada', 'NH': 'New Hampshire', 'NJ': 'New Jersey', 'NM': 'New Mexico', 'NY': 'New York', 'NC':'North Carolina', 'ND': 'North Dakota', 'OH': 'Ohio', 'OK': 'Oklahoma', 'OR': 'Oregon', 'PA': 'Pennsylvania', 'RI': 'Rhode Island',\n",
    "'SC': 'South Carolina', 'SD': 'South Dakota', 'TN':'Tennessee', 'TX': 'Texas', 'UT': 'Utah', 'VT': 'Vermont', 'VA': 'Virginia',\n",
    "'WA': 'Washington','WV': 'West Virginia', 'WI': 'Wisconsin', 'WY': 'Wyoming'}\n"
   ]
  },
  {
   "cell_type": "code",
   "execution_count": null,
   "metadata": {},
   "outputs": [],
   "source": [
    "\n",
    "\n",
    "def getState(data):\n",
    "    if data[\"place\"] != None and data[\"place\"][\"country_code\"] == \"US\":\n",
    "        state = str(data[\"place\"][\"full_name\"]).lower().split(\", \")\n",
    "        if len(state) > 1:\n",
    "            return state[1]\n",
    "\n",
    "def isState(state):\n",
    "    if state in states:\n",
    "        return True\n",
    "    return False \n",
    "\n",
    "def readTweets():\n",
    "    file = \"output.txt\"\n",
    "\n",
    "    \n",
    "    array = []\n",
    "    with open(file, \"r\") as ins:\n",
    "\n",
    "        for line in ins:          \n",
    "         if ( len(line)> 1): ## to avoid empty lines \n",
    "           data = json.loads(line)\n",
    "           if \"created_at\" in data:\n",
    "               state = getState(data)\n",
    "               if isState(state):\n",
    "                 if \"text\" in data:\n",
    "                    print data[\"text\"]\n",
    "                    print state\n",
    "    "
   ]
  },
  {
   "cell_type": "code",
   "execution_count": 50,
   "metadata": {
    "collapsed": true
   },
   "outputs": [
    {
     "name": "stdout",
     "output_type": "stream",
     "text": [
      "If you're a #Retail professional in #Marion, IL, check out this #job: http://t.co/MpE2pkVmz5 #Diversity #Veterans http://t.co/jzfiKfg3ZA\n",
      "il\n",
      "toooo early for this 😩\n",
      "pa\n",
      "Tide and Tigers coming up at 10.. Great show planned...tune in to Karle and gang\n",
      "al\n",
      "@FOXXXXFIRE5 @Nikluk @politicususa http://t.co/K6EVgO6hxX\n",
      "ny\n",
      "@LittleWillAFC 'Shed End'.. quite. Absolute shithole.\n",
      "fl\n",
      "First one out and the last one in always\n",
      "ny\n",
      "Pike up next 😈😈😈\n",
      "in\n",
      "🚧🚧 Detours a majority of today on North Side/North Shore/ and North Hills routes today much of the day \n",
      "\n",
      "http://t.co/Nayr1jp3gD\n",
      "\n",
      "🚧🚧\n",
      "pa\n",
      "Can you recommend anyone for this #Hospitality #job? http://t.co/hyRcWB0h0C #IHOP #DTX #Austin, TX #Hiring http://t.co/JI8hSC76se\n",
      "tx\n",
      "Want to work in #Pensacola, FL? View our latest opening: http://t.co/bvvw8H3IAf #Physician #Veterans #Job #Jobs http://t.co/uCoDq36cYx\n",
      "fl\n"
     ]
    }
   ],
   "source": [
    "readTweets()\n"
   ]
  },
  {
   "cell_type": "code",
   "execution_count": null,
   "metadata": {
    "collapsed": true
   },
   "outputs": [],
   "source": []
  }
 ],
 "metadata": {
  "kernelspec": {
   "display_name": "Python 2",
   "language": "python",
   "name": "python2"
  },
  "language_info": {
   "codemirror_mode": {
    "name": "ipython",
    "version": 2
   },
   "file_extension": ".py",
   "mimetype": "text/x-python",
   "name": "python",
   "nbconvert_exporter": "python",
   "pygments_lexer": "ipython2",
   "version": "2.7.12"
  }
 },
 "nbformat": 4,
 "nbformat_minor": 2
}
